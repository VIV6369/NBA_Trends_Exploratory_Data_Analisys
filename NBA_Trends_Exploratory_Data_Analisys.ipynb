{
 "cells": [
  {
   "cell_type": "markdown",
   "id": "d77b8c72",
   "metadata": {},
   "source": [
    "***NBA Trends (EDA)***\n",
    "\n",
    "In this project, you’ll analyze data from the NBA (National Basketball Association) and explore possible associations.\n",
    "\n",
    "This data was originally sourced from 538’s Analysis of the Complete History Of The NBA and contains the original, unmodified data from Basketball Reference as well as several additional variables 538 added to perform their own analysis.\n",
    "\n",
    "For this project we’ve limited the data to just 5 teams and 10 columns (plus one constructed column, point_diff, the difference between pts and opp_pts)."
   ]
  },
  {
   "cell_type": "markdown",
   "id": "86a4ed51",
   "metadata": {},
   "source": [
    "*Analyzing relationships between Quant and Categorical variables.*"
   ]
  },
  {
   "cell_type": "markdown",
   "id": "d56216d1",
   "metadata": {},
   "source": [
    "The data has been subsetted into two smaller datasets: games from 2010 (named nba_2010) and games from 2014 (named nba_2014). To start, let’s focus on the 2010 data. \n",
    "\n",
    "First, lets examine data. Whats inside and how its look like."
   ]
  },
  {
   "cell_type": "code",
   "execution_count": 2,
   "id": "3765259d",
   "metadata": {},
   "outputs": [
    {
     "name": "stdout",
     "output_type": "stream",
     "text": [
      "            game_id  year_id  fran_id      opp_fran game_location  \\\n",
      "21717  200910270CLE     2010  Celtics     Cavaliers             A   \n",
      "21718  200910280BOS     2010  Celtics       Hornets             H   \n",
      "21719  200910280MIA     2010   Knicks          Heat             A   \n",
      "21720  200910280MIN     2010     Nets  Timberwolves             A   \n",
      "21721  200910280OKC     2010  Thunder         Kings             H   \n",
      "\n",
      "       is_playoffs  pts  opp_pts game_result  forecast  point_diff  \n",
      "21717            0   95       89           W  0.277472           6  \n",
      "21718            0   92       59           W  0.814619          33  \n",
      "21719            0   93      115           L  0.258755         -22  \n",
      "21720            0   93       95           L  0.475155          -2  \n",
      "21721            0  102       89           W  0.716764          13  \n",
      "            game_id  year_id  fran_id   opp_fran game_location  is_playoffs  \\\n",
      "23468  201310300CLE     2014     Nets  Cavaliers             A            0   \n",
      "23469  201310300NYK     2014   Knicks      Bucks             H            0   \n",
      "23470  201310300SAS     2014    Spurs  Grizzlies             H            0   \n",
      "23471  201310300TOR     2014  Celtics    Raptors             A            0   \n",
      "23472  201310300UTA     2014  Thunder       Jazz             A            0   \n",
      "\n",
      "       pts  opp_pts game_result  forecast  point_diff  \n",
      "23468   94       98           L  0.611981          -4  \n",
      "23469   90       83           W  0.793150           7  \n",
      "23470  101       94           W  0.692980           7  \n",
      "23471   87       93           L  0.361233          -6  \n",
      "23472  101       98           W  0.526056           3  \n"
     ]
    }
   ],
   "source": [
    "import numpy as np\n",
    "import pandas as pd\n",
    "from scipy.stats import pearsonr, chi2_contingency\n",
    "import matplotlib.pyplot as plt\n",
    "import seaborn as sns\n",
    "\n",
    "np.set_printoptions(suppress=True, precision = 2)\n",
    "\n",
    "nba = pd.read_csv('./nba_games.csv')\n",
    "\n",
    "# Subset Data to 2010 Season, 2014 Season\n",
    "nba_2010 = nba[nba.year_id == 2010]\n",
    "nba_2014 = nba[nba.year_id == 2014]\n",
    "\n",
    "print(nba_2010.head())\n",
    "print(nba_2014.head())"
   ]
  },
  {
   "cell_type": "markdown",
   "id": "27c751f0",
   "metadata": {},
   "source": [
    "Suppose you want to compare the knicks to the nets with respect to points earned per game. Using the pts column from the nba_2010 DataFrame, create two series named knicks_pts (fran_id = \"Knicks\") and nets_pts(fran_id = \"Nets\") that represent the points each team has scored in their games."
   ]
  },
  {
   "cell_type": "code",
   "execution_count": 3,
   "id": "48460dae",
   "metadata": {},
   "outputs": [
    {
     "name": "stdout",
     "output_type": "stream",
     "text": [
      "Knicks average points per game in 2010: 102\n",
      "Nets average points per game in 2010: 92\n"
     ]
    }
   ],
   "source": [
    "knicks_pts_2010 = nba_2010.pts[nba_2010.fran_id == \"Knicks\"]\n",
    "nets_pts_2010 = nba_2010.pts[nba_2010.fran_id == \"Nets\"]\n",
    "knicks_pts_mean_2010 = round(np.mean(knicks_pts_2010))\n",
    "nets_pts_mean_2010 = round(np.mean(nets_pts_2010))\n",
    "print(\"Knicks average points per game in 2010: \" + str(knicks_pts_mean_2010))\n",
    "print(\"Nets average points per game in 2010: \"  + str(nets_pts_mean_2010))"
   ]
  },
  {
   "cell_type": "markdown",
   "id": "f53553df",
   "metadata": {},
   "source": [
    "Calculate the difference between the two teams’ average points scored and save the result as diff_means_2010"
   ]
  },
  {
   "cell_type": "code",
   "execution_count": 5,
   "id": "f0bd2257",
   "metadata": {},
   "outputs": [
    {
     "name": "stdout",
     "output_type": "stream",
     "text": [
      "Average points difference between Knicks and Nets in 2010: 10 points\n"
     ]
    }
   ],
   "source": [
    "diff_means_2010 = abs(knicks_pts_mean_2010 - nets_pts_mean_2010)\n",
    "print(\"Average points difference between Knicks and Nets in 2010: \" + str(diff_means_2010) + \" points\")"
   ]
  },
  {
   "cell_type": "markdown",
   "id": "8fb7a21d",
   "metadata": {},
   "source": [
    "Rather than comparing means, it’s useful look at the full distribution of values to understand whether a difference in means is meaningful. Create a set of overlapping histograms that can be used to compare the points scored for the Knicks compared to the Nets. Use the series you created in the previous step (1) and the code below to create the plot. Do the distributions appear to be the same?"
   ]
  },
  {
   "cell_type": "code",
   "execution_count": 7,
   "id": "4d457320",
   "metadata": {},
   "outputs": [
    {
     "data": {
      "image/png": "[encoded data removed]",
      "text/plain": [
       "<Figure size 432x288 with 1 Axes>"
      ]
     },
     "metadata": {
      "needs_background": "light"
     },
     "output_type": "display_data"
    },
    {
     "data": {
      "text/plain": [
       "<Figure size 432x288 with 0 Axes>"
      ]
     },
     "metadata": {},
     "output_type": "display_data"
    }
   ],
   "source": [
    "plt.hist(knicks_pts_2010 , color=\"blue\", label=\"Knicks\", density=True, alpha=0.5)\n",
    "plt.hist(nets_pts_2010 , color=\"red\", label=\"Nets\", density=True, alpha=0.5)\n",
    "plt.legend()\n",
    "plt.show()\n",
    "plt.clf()"
   ]
  },
  {
   "cell_type": "markdown",
   "id": "31df1d87",
   "metadata": {},
   "source": [
    "Now, let’s compare the 2010 games to 2014. Replicate the steps from the previous three exercises using nba_2014. First, calculate the mean difference between the two teams points scored. Save and print the value as diff_means_2014. Did the difference in points get larger or smaller in 2014? Then, plot the overlapping histograms. Does the mean difference you calculated make sense?"
   ]
  },
  {
   "cell_type": "code",
   "execution_count": 9,
   "id": "dbd9055e",
   "metadata": {},
   "outputs": [
    {
     "name": "stdout",
     "output_type": "stream",
     "text": [
      "Knicks average points per game in 2014: 99\n",
      "Nets average points per game in 2014: 98\n",
      "Average points difference between Knicks and Nets in 2014: 1\n"
     ]
    },
    {
     "data": {
      "image/png": "[encoded data removed]",
      "text/plain": [
       "<Figure size 432x288 with 1 Axes>"
      ]
     },
     "metadata": {
      "needs_background": "light"
     },
     "output_type": "display_data"
    },
    {
     "data": {
      "image/png": "[encoded data removed]",
      "text/plain": [
       "<Figure size 432x288 with 1 Axes>"
      ]
     },
     "metadata": {
      "needs_background": "light"
     },
     "output_type": "display_data"
    },
    {
     "data": {
      "text/plain": [
       "<Figure size 432x288 with 0 Axes>"
      ]
     },
     "metadata": {},
     "output_type": "display_data"
    }
   ],
   "source": [
    "#4 Average points in 2014\n",
    "knicks_pts_2014 = nba_2014.pts[nba_2014.fran_id == \"Knicks\"]\n",
    "nets_pts_2014 = nba_2014.pts[nba_2014.fran_id == \"Nets\"]\n",
    "knicks_pts_mean_2014 = round(np.mean(knicks_pts_2014))\n",
    "nets_pts_mean_2014 = round(np.mean(nets_pts_2014))\n",
    "# means difference in 2014\n",
    "diff_means_2014 = abs(knicks_pts_mean_2014 - nets_pts_mean_2014)\n",
    "print(\"Knicks average points per game in 2014: \" + str(knicks_pts_mean_2014))\n",
    "print(\"Nets average points per game in 2014: \"  + str(nets_pts_mean_2014))\n",
    "print(\"Average points difference between Knicks and Nets in 2014: \" + str(diff_means_2014))\n",
    "# histogram for 2014\n",
    "plt.hist(knicks_pts_2014 , color=\"blue\", label=\"Knicks\", density=True, alpha=0.5)\n",
    "plt.hist(nets_pts_2014 , color=\"red\", label=\"Nets\", density=True, alpha=0.5)\n",
    "plt.legend()\n",
    "plt.show()\n",
    "plt.clf()\n",
    "# boxplot of points for 5 teams in 2014\n",
    "sns.boxplot(data=nba_2014, x='fran_id', y = 'pts')\n",
    "plt.ylabel('Points 2014')\n",
    "plt.xlabel('Team')\n",
    "plt.show()\n",
    "plt.clf()"
   ]
  },
  {
   "cell_type": "markdown",
   "id": "2877bb25",
   "metadata": {},
   "source": [
    "For the remainder of this project, we’ll focus on data from 2010. Let’s now include all teams in the dataset and investigate the relationship between franchise and points scored per game.\n",
    "\n",
    "Using nba_2010, generate side-by-side boxplots with points scored (pts) on the y-axis and team (fran_id) on the x-axis. Is there any overlap between the boxes? Does this chart suggest that fran_id and pts are associated? Which pairs of teams, if any, earn different average scores per game?"
   ]
  },
  {
   "cell_type": "code",
   "execution_count": 10,
   "id": "6c1ebff8",
   "metadata": {},
   "outputs": [
    {
     "data": {
      "image/png": "[encoded data removed]",
      "text/plain": [
       "<Figure size 432x288 with 1 Axes>"
      ]
     },
     "metadata": {
      "needs_background": "light"
     },
     "output_type": "display_data"
    },
    {
     "data": {
      "text/plain": [
       "<Figure size 432x288 with 0 Axes>"
      ]
     },
     "metadata": {},
     "output_type": "display_data"
    }
   ],
   "source": [
    "# boxplot of points for 5 teams in 2010\n",
    "sns.boxplot(data=nba_2010, x='fran_id', y = 'pts')\n",
    "plt.ylabel('Points 2010')\n",
    "plt.xlabel('Team')\n",
    "plt.show()\n",
    "plt.clf()"
   ]
  },
  {
   "cell_type": "markdown",
   "id": "491fdac1",
   "metadata": {},
   "source": [
    "*Analyzing relationships between Categorical variables*\n",
    "\n",
    "The variable game_result indicates whether a team won a particular game ('W' stands for “win” and 'L' stands for “loss”). The variable game_location indicates whether a team was playing at home or away ('H' stands for “home” and 'A' stands for “away”). Do teams tend to win more games at home compared to away?\n",
    "\n",
    "Data scientists will often calculate a contingency table of frequencies to help them determine if categorical variables are associated. Calculate a table of frequencies that shows the counts of game_result and game_location.\n",
    "\n",
    "Save your result as location_result_freq and print your result. Based on this table, do you think the variables are associated?"
   ]
  },
  {
   "cell_type": "code",
   "execution_count": 11,
   "id": "efaff61c",
   "metadata": {},
   "outputs": [
    {
     "name": "stdout",
     "output_type": "stream",
     "text": [
      "game_result      L    W\n",
      "game_location          \n",
      "A              133   92\n",
      "H              105  120\n"
     ]
    }
   ],
   "source": [
    "location_result_freq = pd.crosstab(nba_2010.game_location, nba_2010.game_result)\n",
    "print(location_result_freq)"
   ]
  },
  {
   "cell_type": "markdown",
   "id": "3100e7f6",
   "metadata": {},
   "source": [
    "\n",
    "Convert this table of frequencies to a table of proportions and save the result as location_result_proportions. Print your result."
   ]
  },
  {
   "cell_type": "code",
   "execution_count": 12,
   "id": "ae95ac15",
   "metadata": {},
   "outputs": [
    {
     "name": "stdout",
     "output_type": "stream",
     "text": [
      "game_result           L         W\n",
      "game_location                    \n",
      "A              0.295556  0.204444\n",
      "H              0.233333  0.266667\n"
     ]
    }
   ],
   "source": [
    "location_result_proportions = location_result_freq/len(nba_2010)\n",
    "print(location_result_proportions)"
   ]
  },
  {
   "cell_type": "markdown",
   "id": "a0a0960e",
   "metadata": {},
   "source": [
    "Using the contingency table created in the previous exercise, calculate the expected contingency table (if there were no association) and the Chi-Square statistic and print your results. Does the actual contingency table look similar to the expected table — or different? Based on this output, do you think there is an association between these variables?"
   ]
  },
  {
   "cell_type": "code",
   "execution_count": 14,
   "id": "5dd5e853",
   "metadata": {},
   "outputs": [
    {
     "name": "stdout",
     "output_type": "stream",
     "text": [
      "[[119. 106.]\n",
      " [119. 106.]]\n",
      "If expected table values are different from observed table it indicates assosiation between variables\n",
      "If chi2 is above 4 it indicates that variables are associated\n",
      "chi2 equals: 6.5\n"
     ]
    }
   ],
   "source": [
    "chi2, pval, dof, expected = chi2_contingency(location_result_freq)\n",
    "print(np.round(expected))\n",
    "print(\"If expected table values are different from observed table it indicates assosiation between variables\")\n",
    "print(\"If chi2 is above 4 it indicates that variables are associated\")\n",
    "print(\"chi2 equals: \" + str(round(chi2,1)))"
   ]
  },
  {
   "cell_type": "markdown",
   "id": "44e86666",
   "metadata": {},
   "source": [
    "*Analyzing Relationships Between Quantitative Variables*\n",
    "\n",
    "\n",
    "For each game, 538 has calculated the probability that each team will win the game. In the data, this is saved as forecast. The point_diff column gives the margin of victory/defeat for each team (positive values mean that the team won; negative values mean that they lost). Did teams with a higher probability of winning (according to 538) also tend to win games by more points?\n",
    "\n",
    "Using nba_2010, calculate the covariance between forecast (538’s projected win probability) and point_diff (the margin of victory/defeat) in the dataset. Save and print your result. Looking at the matrix, what is the covariance between these two variables?"
   ]
  },
  {
   "cell_type": "code",
   "execution_count": 15,
   "id": "fd61ae92",
   "metadata": {},
   "outputs": [
    {
     "name": "stdout",
     "output_type": "stream",
     "text": [
      "[[  0.05   1.37]\n",
      " [  1.37 186.56]]\n",
      "Covariance equals to 1.37\n"
     ]
    }
   ],
   "source": [
    "cov_mat_forecast_point_diff = np.cov(nba_2010.forecast, nba_2010.point_diff)\n",
    "print(cov_mat_forecast_point_diff)\n",
    "print(\"Covariance equals to 1.37\")"
   ]
  },
  {
   "cell_type": "markdown",
   "id": "a743eba6",
   "metadata": {},
   "source": [
    "Using nba_2010, calculate the correlation between forecast and point_diff. Save and print your result. Does this value suggest an association between the two variables?"
   ]
  },
  {
   "cell_type": "code",
   "execution_count": 16,
   "id": "433b55be",
   "metadata": {},
   "outputs": [
    {
     "name": "stdout",
     "output_type": "stream",
     "text": [
      "Correlation above absolute value of 0.3 suggests that there is a linear correlation. Correlation between forecast and point difference in 2010 is: 0.44\n"
     ]
    }
   ],
   "source": [
    "corr_forecast_point_diff, p = pearsonr(nba_2010.forecast, nba_2010.point_diff)\n",
    "print(\"Correlation above absolute value of 0.3 suggests that there is a linear correlation. Correlation between forecast and point difference in 2010 is: \"+str(round(corr_forecast_point_diff,2)))"
   ]
  },
  {
   "cell_type": "markdown",
   "id": "67ff4be3",
   "metadata": {},
   "source": [
    "\n",
    "Generate a scatter plot of forecast (on the x-axis) and point_diff (on the y-axis). Does the correlation value make sense?"
   ]
  },
  {
   "cell_type": "code",
   "execution_count": 17,
   "id": "07cfe9e6",
   "metadata": {},
   "outputs": [
    {
     "data": {
      "image/png": "[encoded data removed]",
      "text/plain": [
       "<Figure size 432x288 with 1 Axes>"
      ]
     },
     "metadata": {
      "needs_background": "light"
     },
     "output_type": "display_data"
    },
    {
     "name": "stdout",
     "output_type": "stream",
     "text": [
      "Linear correlation seems to be visible from the scatter chart above. The lower the forecast coeficient the higher negative point difference, the higher the forecast coeficient the higher positive point difference.\n"
     ]
    }
   ],
   "source": [
    "plt.scatter(x = nba_2010.forecast, y = nba_2010.point_diff)\n",
    "plt.xlabel('Forecasts in 2010')\n",
    "plt.ylabel('Point difference in 2010')\n",
    "plt.show()\n",
    "print(\"Linear correlation seems to be visible from the scatter chart above. The lower the forecast coeficient the higher negative point difference, the higher the forecast coeficient the higher positive point difference.\")"
   ]
  }
 ],
 "metadata": {
  "kernelspec": {
   "display_name": "Python 3 (ipykernel)",
   "language": "python",
   "name": "python3"
  },
  "language_info": {
   "codemirror_mode": {
    "name": "ipython",
    "version": 3
   },
   "file_extension": ".py",
   "mimetype": "text/x-python",
   "name": "python",
   "nbconvert_exporter": "python",
   "pygments_lexer": "ipython3",
   "version": "3.9.7"
  }
 },
 "nbformat": 4,
 "nbformat_minor": 5
}
